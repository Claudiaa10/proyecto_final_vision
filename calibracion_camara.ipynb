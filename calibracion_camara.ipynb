{
 "cells": [
  {
   "cell_type": "markdown",
   "metadata": {},
   "source": [
    "# **Sesión 1:** Calibración de Cámara 📷⚙️"
   ]
  },
  {
   "cell_type": "markdown",
   "metadata": {},
   "source": [
    "## **Instalaciones**"
   ]
  },
  {
   "cell_type": "code",
   "execution_count": 60,
   "metadata": {},
   "outputs": [
    {
     "name": "stdout",
     "output_type": "stream",
     "text": [
      "Requirement already satisfied: imageio in c:\\users\\claudia\\anaconda3\\lib\\site-packages (2.9.0)\n",
      "Requirement already satisfied: opencv-python in c:\\users\\claudia\\anaconda3\\lib\\site-packages (4.8.0.76)\n",
      "Requirement already satisfied: pillow in c:\\users\\claudia\\anaconda3\\lib\\site-packages (from imageio) (9.0.1)\n",
      "Requirement already satisfied: numpy in c:\\users\\claudia\\anaconda3\\lib\\site-packages (from imageio) (1.26.0)\n"
     ]
    }
   ],
   "source": [
    "!pip install imageio opencv-python\n"
   ]
  },
  {
   "cell_type": "markdown",
   "metadata": {},
   "source": [
    "## **Librerías**"
   ]
  },
  {
   "cell_type": "code",
   "execution_count": 61,
   "metadata": {},
   "outputs": [],
   "source": [
    "from typing import List\n",
    "import numpy as np\n",
    "import imageio\n",
    "import cv2\n",
    "import copy\n",
    "import glob\n",
    "import os\n"
   ]
  },
  {
   "cell_type": "code",
   "execution_count": 62,
   "metadata": {},
   "outputs": [
    {
     "name": "stdout",
     "output_type": "stream",
     "text": [
      "C:\\Users\\Claudia\\Documents\\3º IMAT\\Visión por ordenador I\\Práctica 1\\Lab_1\\practicas_vision\\Scripts\\python.exe\n"
     ]
    }
   ],
   "source": [
    "import sys\n",
    "print(sys.executable)"
   ]
  },
  {
   "cell_type": "markdown",
   "metadata": {},
   "source": [
    "## **Apartado A: Calibración de cámara** (derecha e izquierda)"
   ]
  },
  {
   "cell_type": "markdown",
   "metadata": {},
   "source": [
    "En este apartado se realiza la calibración de dos cámaras de un sistema estereoscópico. Para ello se trabajará con las imágenes de las carpetas ``left`` y ``right``. En primer lugar se trabajará con la carpeta ``left``. Posteriormente, deberá repetir el proceso con las imágenes en la carpeta ``right``. Ambas carpetas contienen imágenes con las que se calibrarán las cámaras. En ellas aparece el patrón de calibración en diferentes posiciones y orientaciones. Estas imágenes serán los datos de entrada.\n",
    "\n",
    "Los pasos que deberá seguir para calibrar una cámara son:\n",
    "\n",
    "1. Defina y ejecute el método para cargar imágenes ``load_images()``.\n",
    "2. Detecte las esquinas de los patrones usando ``cv2.findChessboardCorners()``. Refine las detecciones con ``cv2.cornerSubPix()``.\n",
    "3. Compruebe que las detecciones son correctas dibujando los resultados con ``cv2.drawChessboardCorners()``.\n",
    "4. Defina y ejecute el método ``get_chessboard_points(chessboard_shape, dx, dy)`` que proporcione las coordenadas 3D de las esquinas del patrón. El sistema de referencia utilizado deberá estar anclado al propio patrón.\n",
    "5. Utilice ``cv2.calibrateCamera`` para obtener los parámetros de calibración para la cámara izquierda."
   ]
  },
  {
   "cell_type": "markdown",
   "metadata": {},
   "source": [
    "### **Tarea A.1:** Defina y ejecute el método para cargar imágenes ``load_images()``."
   ]
  },
  {
   "cell_type": "code",
   "execution_count": 63,
   "metadata": {},
   "outputs": [],
   "source": [
    "def load_images(filenames: List) -> List:\n",
    "    return [imageio.v2.imread(filename) for filename in filenames]"
   ]
  },
  {
   "cell_type": "code",
   "execution_count": 64,
   "metadata": {},
   "outputs": [],
   "source": [
    "# TODO Build a list containing the paths of all images from the left camera\n",
    "imgs_path = []\n",
    "for i in range(19):\n",
    "    if i <10:\n",
    "        imgs_path.append(f'../data/left/left_00{i}.jpg')\n",
    "    else:\n",
    "        imgs_path.append(f'../data/left/left_0{i}.jpg')\n",
    "        \n",
    "        \n",
    "\n",
    "imgs = load_images(imgs_path)\n"
   ]
  },
  {
   "cell_type": "markdown",
   "metadata": {},
   "source": [
    "### **Tarea A.2:** Detecte las esquinas de los patrones usando ``cv2.findChessboardCorners()``. Refine las detecciones con ``cv2.cornerSubPix()``."
   ]
  },
  {
   "cell_type": "code",
   "execution_count": 65,
   "metadata": {},
   "outputs": [],
   "source": [
    "# TODO Find corners with cv2.findChessboardCorners()\n",
    "corners_list = []\n",
    "for i in range(19):\n",
    "    corners = cv2.findChessboardCorners(imgs[i],(8,6))\n",
    "    corners_list.append(corners)\n"
   ]
  },
  {
   "cell_type": "code",
   "execution_count": 66,
   "metadata": {},
   "outputs": [],
   "source": [
    "corners_copy = copy.deepcopy(corners_list)\n",
    "criteria = (cv2.TERM_CRITERIA_EPS + cv2.TERM_CRITERIA_MAX_ITER, 30, 0.01)\n",
    "\n",
    "# TODO To refine corner detections with cv2.cornerSubPix() you need to input grayscale images. Build a list containing grayscale images.\n",
    "\n",
    "\n",
    "def to_gray(imgs):\n",
    "    list_imgs_gray = [] \n",
    "    for img in imgs:\n",
    "        imgs_gray = cv2.cvtColor(img, cv2.COLOR_BGR2GRAY)\n",
    "        list_imgs_gray.append(imgs_gray)\n",
    "    return list_imgs_gray\n",
    "\n",
    "list_imgs_gray = to_gray(imgs)\n",
    "\n",
    "def refine_corners(list_imgs_gray,corners_copy,criteria):\n",
    "    corners_refined = [cv2.cornerSubPix(i, cor[1], (8, 6), (-1, -1), criteria) if cor[0] else [] for i, cor in zip(list_imgs_gray, corners_copy)]\n",
    "    return corners_refined\n",
    "\n",
    "\n",
    "corners_refined = refine_corners(list_imgs_gray,corners_copy,criteria)"
   ]
  },
  {
   "cell_type": "markdown",
   "metadata": {},
   "source": [
    "### **Tarea A.3:** Compruebe que las detecciones son correctas dibujando los resultados con ``cv2.drawChessboardCorners()``"
   ]
  },
  {
   "cell_type": "code",
   "execution_count": 67,
   "metadata": {},
   "outputs": [],
   "source": [
    "imgs_copy = copy.deepcopy(imgs)"
   ]
  },
  {
   "cell_type": "code",
   "execution_count": 68,
   "metadata": {},
   "outputs": [],
   "source": [
    "# TODO Use cv2.drawChessboardCorners() to draw the cornes\n",
    "corners_refined_copy = corners_refined.copy()\n",
    "imgs_copy = imgs.copy()\n",
    "\n",
    "def draw_corners(images: List[np.ndarray], corners: List[np.ndarray], pattern_size) -> List[np.ndarray]:\n",
    "    images_with_corners = []\n",
    "    for img, corner in zip(images, corners):\n",
    "        if corner.size > 0:\n",
    "            img_with_corners = cv2.drawChessboardCorners(img, pattern_size, corner, True)\n",
    "            images_with_corners.append(img_with_corners)\n",
    "            \n",
    "    return images_with_corners\n",
    "\n",
    "images = draw_corners(imgs_copy,corners_refined_copy,(8,6))"
   ]
  },
  {
   "cell_type": "code",
   "execution_count": 69,
   "metadata": {},
   "outputs": [],
   "source": [
    "# TODO Show images and save when needed\n",
    "\n",
    "def show_image(window_name,image):\n",
    "    cv2.imshow(window_name,image)\n",
    "    cv2.waitKey(0)\n",
    "    cv2.destroyAllWindows()\n",
    "    \n",
    "def write_image(filename:str,image):\n",
    "    cv2.imwrite(filename,image)"
   ]
  },
  {
   "cell_type": "code",
   "execution_count": 70,
   "metadata": {},
   "outputs": [],
   "source": [
    "for i in range(19):\n",
    "        if i <10:\n",
    "            show_image(f\"Left_00{i}\",images[i])\n",
    "            write_image(f'../src/left_00{i}.jpg',images[i])\n",
    "        else:\n",
    "            show_image(f\"Left_0{i}\",images[i])\n",
    "            write_image(f'../src/left_0{i}.jpg',images[i])"
   ]
  },
  {
   "cell_type": "markdown",
   "metadata": {},
   "source": [
    "### **Tarea A.4:** Defina y ejecute el método ``get_chessboard_points(chessboard_shape, dx, dy)``"
   ]
  },
  {
   "cell_type": "code",
   "execution_count": 71,
   "metadata": {},
   "outputs": [],
   "source": [
    "# TODO Design the method. It should return a np.array with np.float32 elements\n",
    "def get_chessboard_points(chessboard_shape, dx, dy):\n",
    "    coor = []\n",
    "    n_cols = chessboard_shape[0] \n",
    "    n_rows = chessboard_shape[1]  \n",
    "\n",
    "    for i in range(n_rows):\n",
    "        for j in range(n_cols):\n",
    "            coor.append([j * dx, i * dy, 0])  \n",
    "    return np.array(coor, dtype=np.float32)\n"
   ]
  },
  {
   "cell_type": "code",
   "execution_count": 99,
   "metadata": {},
   "outputs": [],
   "source": [
    "# TODO You need the points for every image, not just one\n",
    "chessboard_points = get_chessboard_points((8, 6), 30, 30)\n",
    "\n",
    "valid_chessboard_points = [get_chessboard_points((8, 6), 30, 30) for i in range(len(images))]"
   ]
  },
  {
   "cell_type": "markdown",
   "metadata": {},
   "source": [
    "### **Tarea A.5:** Utilice ``cv2.calibrateCamera()`` para obtener los parámetros de calibración para la cámara izquierda"
   ]
  },
  {
   "cell_type": "code",
   "execution_count": 73,
   "metadata": {},
   "outputs": [],
   "source": [
    "# Filter data and get only those with adequate detections\n",
    "valid_corners = [cor[1] for cor in corners_list if cor[0]]\n",
    "# Convert list to numpy array\n",
    "valid_corners = np.asarray(valid_corners, dtype=np.float32)"
   ]
  },
  {
   "cell_type": "code",
   "execution_count": 74,
   "metadata": {},
   "outputs": [],
   "source": [
    "# Chessboard points for every image\n",
    "valid_chessboard_points = [chessboard_points for _ in range(len(valid_corners))]"
   ]
  },
  {
   "cell_type": "code",
   "execution_count": 75,
   "metadata": {},
   "outputs": [],
   "source": [
    "# TODO\n",
    "rms, intrinsics, dist_coeffs, rvecs, tvecs = cv2.calibrateCamera(valid_chessboard_points, valid_corners, list_imgs_gray[0].shape[::-1], None, None)\n",
    "\n",
    "# Obtain extrinsics\n",
    "extrinsics = list(map(lambda rvec, tvec: np.hstack((cv2.Rodrigues(rvec)[0], tvec)), rvecs, tvecs))"
   ]
  },
  {
   "cell_type": "code",
   "execution_count": 76,
   "metadata": {},
   "outputs": [
    {
     "name": "stdout",
     "output_type": "stream",
     "text": [
      "Intrinsics:\n",
      " [[420.04820067   0.         156.17013229]\n",
      " [  0.         423.19989828 132.48442139]\n",
      " [  0.           0.           1.        ]]\n",
      "Distortion coefficients:\n",
      " [[-2.29154134e-01  3.18794487e+00  5.92006807e-03 -4.09074006e-03\n",
      "  -2.50635145e+01]]\n",
      "Root mean squared reprojection error:\n",
      " 0.16919823622862215\n"
     ]
    }
   ],
   "source": [
    "# Print outputs\n",
    "print(\"Intrinsics:\\n\", intrinsics)\n",
    "print(\"Distortion coefficients:\\n\", dist_coeffs)\n",
    "print(\"Root mean squared reprojection error:\\n\", rms)"
   ]
  },
  {
   "cell_type": "markdown",
   "metadata": {},
   "source": [
    "### **Pregunta A.1:** Repita el proceso (carga de imágenes, detección y comprobación de esquinas, etc.) para la cámara derecha."
   ]
  },
  {
   "cell_type": "code",
   "execution_count": 77,
   "metadata": {},
   "outputs": [],
   "source": [
    "# TODO Homework\n",
    "\n",
    "# Cargo las imágenes\n",
    "imgs_right_path = []\n",
    "for i in range(19):\n",
    "    if i <10:\n",
    "        imgs_right_path.append(f'../data/right/right_00{i}.jpg')\n",
    "    else:\n",
    "        imgs_right_path.append(f'../data/right/right_0{i}.jpg')\n",
    "\n",
    "imgs_right = load_images(imgs_right_path)"
   ]
  },
  {
   "cell_type": "code",
   "execution_count": 78,
   "metadata": {},
   "outputs": [],
   "source": [
    "corners_right_list = []\n",
    "for i in range(19):\n",
    "    corners_right = cv2.findChessboardCorners(imgs_right[i],(8,6))\n",
    "    corners_right_list.append(corners_right)"
   ]
  },
  {
   "cell_type": "code",
   "execution_count": 79,
   "metadata": {},
   "outputs": [],
   "source": [
    "corners_right_copy = copy.deepcopy(corners_right_list)\n",
    "criteria = (cv2.TERM_CRITERIA_EPS + cv2.TERM_CRITERIA_MAX_ITER, 30, 0.01)\n",
    "list_right_imgs_gray = to_gray(imgs_right)\n",
    "corners_refined_right = refine_corners(list_right_imgs_gray,corners_right_copy,criteria)\n"
   ]
  },
  {
   "cell_type": "code",
   "execution_count": 80,
   "metadata": {},
   "outputs": [],
   "source": [
    "imgs_right_copy = copy.deepcopy(imgs_right)"
   ]
  },
  {
   "cell_type": "code",
   "execution_count": 81,
   "metadata": {},
   "outputs": [
    {
     "name": "stdout",
     "output_type": "stream",
     "text": [
      "The image 14 doesn't have any valid corners\n"
     ]
    }
   ],
   "source": [
    "corners_refined_right_copy = corners_refined_right.copy()\n",
    "imgs_right_copy = imgs_right.copy()\n",
    "images_right = []\n",
    "for i in range(19):\n",
    "    if corners_right_list[i][0]:\n",
    "        im_right = cv2.drawChessboardCorners(imgs_right_copy[i],(8,6),corners_refined_right_copy[i],corners_right_copy[i][0])\n",
    "        images_right.append(im_right)\n",
    "    else:\n",
    "        print(f\"The image {i} doesn't have any valid corners\")"
   ]
  },
  {
   "cell_type": "code",
   "execution_count": 82,
   "metadata": {},
   "outputs": [],
   "source": [
    "for i in range(18):\n",
    "        if i <10:\n",
    "            show_image(f\"Right_00{i}\",images_right[i])\n",
    "            write_image(f'../src/right_00{i}.jpg',images_right[i])\n",
    "        else:\n",
    "            show_image(f\"Right_0{i}\",images_right[i])\n",
    "            write_image(f'../src/right_0{i}.jpg',images_right[i])\n",
    "         \n",
    "        "
   ]
  },
  {
   "cell_type": "code",
   "execution_count": 83,
   "metadata": {},
   "outputs": [],
   "source": [
    "# Filter data and get only those with adequate detections\n",
    "valid_corners_right = [cor[1] for cor in corners_right_list if cor[0]]\n",
    "# Convert list to numpy array\n",
    "valid_corners_right = np.asarray(valid_corners_right, dtype=np.float32)"
   ]
  },
  {
   "cell_type": "code",
   "execution_count": 84,
   "metadata": {},
   "outputs": [],
   "source": [
    "# TODO You need the points for every image, not just one\n",
    "chessboard_points_right = get_chessboard_points((8, 6), 30, 30)\n",
    "valid_chessboard_points_right = [get_chessboard_points((8, 6), 30, 30) for i in range(len(images_right))]"
   ]
  },
  {
   "cell_type": "code",
   "execution_count": 85,
   "metadata": {},
   "outputs": [],
   "source": [
    "valid_chessboard_points_right = [chessboard_points_right for _ in range(len(valid_corners_right))]\n"
   ]
  },
  {
   "cell_type": "code",
   "execution_count": 86,
   "metadata": {},
   "outputs": [],
   "source": [
    "rms, intrinsics, dist_coeffs, rvecs, tvecs = cv2.calibrateCamera(valid_chessboard_points_right, valid_corners_right, list_right_imgs_gray[0].shape[::-1], None, None)\n",
    "\n",
    "# Obtain extrinsics\n",
    "extrinsics = list(map(lambda rvec, tvec: np.hstack((cv2.Rodrigues(rvec)[0], tvec)), rvecs, tvecs))"
   ]
  },
  {
   "cell_type": "code",
   "execution_count": 87,
   "metadata": {},
   "outputs": [
    {
     "name": "stdout",
     "output_type": "stream",
     "text": [
      "Intrinsics:\n",
      " [[435.42592593   0.         145.73973597]\n",
      " [  0.         436.17316265 133.42490959]\n",
      " [  0.           0.           1.        ]]\n",
      "Distortion coefficients:\n",
      " [[-0.13665117  0.05630508  0.00771191 -0.00736017  0.32078665]]\n",
      "Root mean squared reprojection error:\n",
      " 0.19470099997994642\n"
     ]
    }
   ],
   "source": [
    "# Print outputs\n",
    "print(\"Intrinsics:\\n\", intrinsics)\n",
    "print(\"Distortion coefficients:\\n\", dist_coeffs)\n",
    "print(\"Root mean squared reprojection error:\\n\", rms)"
   ]
  },
  {
   "cell_type": "markdown",
   "metadata": {},
   "source": [
    "### **Pregunta A.2:** Diferencias entre cv2.findChessboardCorners() y cv2.cornerSubPix()"
   ]
  },
  {
   "cell_type": "code",
   "execution_count": 88,
   "metadata": {},
   "outputs": [],
   "source": [
    "images_find_corners = []\n",
    "for i in range(19):\n",
    "    im = cv2.drawChessboardCorners(imgs[i], (8, 6), corners_list[i][1], corners_list[i][0])\n",
    "    images_find_corners.append(im)\n",
    "\n",
    "images_refined_corners = []\n",
    "for i in range(19):\n",
    "    im = cv2.drawChessboardCorners(imgs[i], (8, 6), corners_refined[i], corners_list[i][0])\n",
    "    images_refined_corners.append(im)\n",
    "\n",
    "\n",
    "show_image(\"Comparaison\",images_refined_corners[18])\n",
    "show_image(\"Comparaison_2\",images_find_corners[18])\n",
    "write_image(\"Comparaison.jpg\",images_refined_corners[18])\n",
    "write_image('Comparaison_2.jpg',images_find_corners[18])"
   ]
  },
  {
   "cell_type": "markdown",
   "metadata": {},
   "source": [
    "### **Pregunta A.3:** Número mínimo de imágenes necesarias para calibrar."
   ]
  },
  {
   "cell_type": "code",
   "execution_count": 89,
   "metadata": {},
   "outputs": [],
   "source": [
    "def calibrate_with_images(images_subset, chessboard_points, corners_list):\n",
    "    # Lista de puntos válidos para las imágenes seleccionadas\n",
    "    valid_corners = [corners_list[i][1] for i in range(len(images_subset)) if corners_list[i][0]]\n",
    "    valid_chessboard_points = [chessboard_points for _ in range(len(valid_corners))]\n",
    "    \n",
    "    # Calibración de la cámara con las imágenes seleccionadas\n",
    "    if len(valid_corners) > 0:\n",
    "        rms, _, _, _, _ = cv2.calibrateCamera(valid_chessboard_points, valid_corners, images_subset[0].shape[1::-1], None, None)\n",
    "        return rms\n",
    "    return None"
   ]
  },
  {
   "cell_type": "code",
   "execution_count": 90,
   "metadata": {},
   "outputs": [
    {
     "name": "stdout",
     "output_type": "stream",
     "text": [
      "Números de fotos: [1, 2, 3, 4, 5, 6, 7, 8, 9, 10, 11, 12, 13, 14, 15, 16, 17, 18, 19]\n",
      "Errores RMS: [0.36070272974708645, 0.281395401493689, 0.23937924658319015, 0.2235761358303817, 0.213625983864412, 0.2051352107369195, 0.2003704632867212, 0.19576411391589157, 0.19415926825616925, 0.1916311821654824, 0.18785316300405977, 0.1843152903258297, 0.17998969874346216, 0.17624637055336226, 0.1774388472396999, 0.17465275705347968, 0.17214392398257197, 0.17002708090829285, 0.16919823622862215]\n",
      "0.16919823622862215\n",
      "Número mínimo de imágenes 19\n"
     ]
    }
   ],
   "source": [
    "rms_errors = []\n",
    "num_images_list = []\n",
    "for num_images in range(1, 20):\n",
    "    images_subset = imgs[:num_images]\n",
    "    rms_error = calibrate_with_images(images_subset, chessboard_points, corners_list)\n",
    "    \n",
    "    if rms_error is not None:\n",
    "        num_images_list.append(num_images)\n",
    "        rms_errors.append(rms_error)\n",
    "\n",
    "# Imprimir las listas\n",
    "print(\"Números de fotos:\", num_images_list)\n",
    "print(\"Errores RMS:\", rms_errors)\n",
    "\n",
    "min_rms_error = min(rms_errors)\n",
    "print(min_rms_error)\n",
    "for i in range(len(rms_errors)):\n",
    "    if rms_errors[i] == min_rms_error:\n",
    "        index = i\n",
    "num_images = index+1\n",
    "print(f\"Número mínimo de imágenes {num_images}\")"
   ]
  },
  {
   "cell_type": "code",
   "execution_count": 91,
   "metadata": {},
   "outputs": [
    {
     "name": "stdout",
     "output_type": "stream",
     "text": [
      "Números de fotos: [1, 2, 3, 4, 5, 6, 7, 8, 9, 10, 11, 12, 13, 14, 15, 16, 17, 18, 19]\n",
      "Errores RMS: [0.1667529544651311, 0.39262784421060903, 0.343450100149161, 0.31238537212417894, 0.28905624732165214, 0.26992717707977953, 0.2577573533773086, 0.24602173529242247, 0.2345453028262974, 0.22603481874686226, 0.21929854050388128, 0.21278420238397905, 0.20701548545957807, 0.2033432518752483, 0.2033432518752483, 0.19903441457091828, 0.19509031446996244, 0.19183187611696378, 0.19470099997994642]\n",
      "0.1667529544651311\n",
      "Número mínimo de imágenes 1\n"
     ]
    }
   ],
   "source": [
    "rms_errors = []\n",
    "num_images_list = []\n",
    "for num_images in range(1, 20):\n",
    "    images_subset = imgs_right[:num_images]\n",
    "    rms_error = calibrate_with_images(images_subset, chessboard_points_right, corners_right_list)\n",
    "    \n",
    "    if rms_error is not None:\n",
    "        num_images_list.append(num_images)\n",
    "        rms_errors.append(rms_error)\n",
    "\n",
    "# Imprimir las listas\n",
    "print(\"Números de fotos:\", num_images_list)\n",
    "print(\"Errores RMS:\", rms_errors)\n",
    "\n",
    "min_rms_error = min(rms_errors)\n",
    "print(min_rms_error)\n",
    "for i in range(len(rms_errors)):\n",
    "    if rms_errors[i] == min_rms_error:\n",
    "        index = i\n",
    "num_images = index+1\n",
    "print(f\"Número mínimo de imágenes {num_images}\")"
   ]
  },
  {
   "cell_type": "markdown",
   "metadata": {},
   "source": [
    "## **Apartado B: Corrección de distorsión** (ojo de pez)"
   ]
  },
  {
   "cell_type": "markdown",
   "metadata": {},
   "source": [
    "En este apartado se trabajará en la corrección de la distorsión debido a lentes de ojo de pez. Primero se calibrará una cámara con este tipo de lente, utilizando las imágenes de la carpeta ``fisheye``. Posteriormente se utilizarán estos parámetros de calibración para corregir la distorsión de una de las imágenes de calibración.\n",
    "\n",
    "Los pasos que deberá seguir para calibrar una cámara con distorsión de ojo de pez son:\n",
    "\n",
    "1. Reutilice el método ``load_images()`` para cargar las imágenes de la carpeta ``fisheye``.\n",
    "2. Detecte las equinas procesando las imágenes con los métodos ``cv2.findChessboardCorners()`` y ``cv2.cornerSubPix()``.\n",
    "3. Reutilice la función ``get_chessboard_points()`` para obtener las coordenadas del tablero.\n",
    "4. Defina los argumentos para la función de calibración.\n",
    "5. Calibre con ``cv2.fisheye.calibrate()``"
   ]
  },
  {
   "cell_type": "markdown",
   "metadata": {},
   "source": [
    "### **Tarea B.1:** Reutilice el método ``load_images()`` para cargar las imágenes de la carpeta ``fisheye``"
   ]
  },
  {
   "cell_type": "code",
   "execution_count": 92,
   "metadata": {},
   "outputs": [],
   "source": [
    "# TODO Build a list containing the paths of all images from the fisheye camera and load images\n",
    "fisheye_imgs_path = []\n",
    "for i in range(10):\n",
    "    fisheye_imgs_path.append(f'../data/fisheye/VMRImage{i}.jpg')\n",
    "fisheye_imgs = load_images(fisheye_imgs_path)\n"
   ]
  },
  {
   "cell_type": "markdown",
   "metadata": {},
   "source": [
    "### **Tarea B.2:** Detecte las equinas procesando las imágenes con los métodos ``cv2.findChessboardCorners()`` y ``cv2.cornerSubPix()``."
   ]
  },
  {
   "cell_type": "code",
   "execution_count": 93,
   "metadata": {},
   "outputs": [],
   "source": [
    "imgs_corners_fisheye = []\n",
    "subpix_criteria = (cv2.TERM_CRITERIA_EPS+cv2.TERM_CRITERIA_MAX_ITER, 30, 0.1)\n",
    "for img in fisheye_imgs:\n",
    "    gray_img_fisheye = cv2.cvtColor(img, cv2.COLOR_BGR2GRAY)\n",
    "    ret, corners = cv2.findChessboardCorners(gray_img_fisheye, (7, 6), None)\n",
    "    if ret: \n",
    "        refined_corners_fisheye = cv2.cornerSubPix(gray_img_fisheye, corners, (7, 6), (-1, -1), subpix_criteria)\n",
    "        imgs_corners_fisheye.append(refined_corners_fisheye)\n",
    "\n",
    "imgs_corners_fisheye = np.array(imgs_corners_fisheye, dtype=np.float32)"
   ]
  },
  {
   "cell_type": "markdown",
   "metadata": {},
   "source": [
    "### **Tarea B.3:** Reutilice la función ``get_chessboard_points()`` para obtener las coordenadas del tablero"
   ]
  },
  {
   "cell_type": "code",
   "execution_count": 94,
   "metadata": {},
   "outputs": [],
   "source": [
    "chessboard_dims = (7, 6)\n",
    "length = 30\n",
    "fisheye_chessboard_points = [get_chessboard_points(chessboard_dims, length, length) for _ in range(len(imgs_corners_fisheye))]"
   ]
  },
  {
   "cell_type": "code",
   "execution_count": 95,
   "metadata": {},
   "outputs": [],
   "source": [
    "for i in range(10):\n",
    "        if i <10:\n",
    "            show_image(f\"fisheye_00{i}\",fisheye_imgs[i])\n",
    "            write_image(f'../src/fisheye_00{i}.jpg',fisheye_imgs[i])\n",
    "  "
   ]
  },
  {
   "cell_type": "markdown",
   "metadata": {},
   "source": [
    "### **Tarea B.4:** Defina los argumentos para la calibración"
   ]
  },
  {
   "cell_type": "code",
   "execution_count": 96,
   "metadata": {},
   "outputs": [],
   "source": [
    "# Parameters for cv2.fisheye.calibrate()\n",
    "calibration_flags = cv2.fisheye.CALIB_RECOMPUTE_EXTRINSIC+cv2.fisheye.CALIB_CHECK_COND+cv2.fisheye.CALIB_FIX_SKEW\n",
    "intrinsics = np.zeros((3, 3))\n",
    "distortion = np.zeros((4, 1))\n",
    "rotations = [np.zeros((1, 1, 3), dtype=np.float64) for _ in imgs_corners_fisheye]\n",
    "traslations = [np.zeros((1, 1, 3), dtype=np.float64) for _ in imgs_corners_fisheye]\n",
    "\n"
   ]
  },
  {
   "cell_type": "markdown",
   "metadata": {},
   "source": [
    "### **Tarea B.5:** Calibración"
   ]
  },
  {
   "cell_type": "code",
   "execution_count": 97,
   "metadata": {},
   "outputs": [
    {
     "ename": "error",
     "evalue": "OpenCV(4.10.0) D:\\a\\opencv-python\\opencv-python\\opencv\\modules\\calib3d\\src\\fisheye.cpp:1453: error: (-215:Assertion failed) fabs(norm_u1) > 0 in function 'cv::internal::InitExtrinsics'\n",
     "output_type": "error",
     "traceback": [
      "\u001b[1;31m---------------------------------------------------------------------------\u001b[0m",
      "\u001b[1;31merror\u001b[0m                                     Traceback (most recent call last)",
      "Cell \u001b[1;32mIn[97], line 2\u001b[0m\n\u001b[0;32m      1\u001b[0m rms, _, _, _, _ \u001b[38;5;241m=\u001b[39m \\\n\u001b[1;32m----> 2\u001b[0m \u001b[43mcv2\u001b[49m\u001b[38;5;241;43m.\u001b[39;49m\u001b[43mfisheye\u001b[49m\u001b[38;5;241;43m.\u001b[39;49m\u001b[43mcalibrate\u001b[49m\u001b[43m(\u001b[49m\u001b[43mnp\u001b[49m\u001b[38;5;241;43m.\u001b[39;49m\u001b[43mexpand_dims\u001b[49m\u001b[43m(\u001b[49m\u001b[43mnp\u001b[49m\u001b[38;5;241;43m.\u001b[39;49m\u001b[43masarray\u001b[49m\u001b[43m(\u001b[49m\u001b[43mfisheye_chessboard_points\u001b[49m\u001b[43m)\u001b[49m\u001b[43m,\u001b[49m\u001b[43m \u001b[49m\u001b[38;5;241;43m-\u001b[39;49m\u001b[38;5;241;43m2\u001b[39;49m\u001b[43m)\u001b[49m\u001b[43m,\u001b[49m\u001b[43m \u001b[49m\u001b[43mimgs_corners_fisheye\u001b[49m\u001b[43m,\u001b[49m\u001b[43m \u001b[49m\u001b[43mgray_img_fisheye\u001b[49m\u001b[38;5;241;43m.\u001b[39;49m\u001b[43mshape\u001b[49m\u001b[43m[\u001b[49m\u001b[43m:\u001b[49m\u001b[43m:\u001b[49m\u001b[38;5;241;43m-\u001b[39;49m\u001b[38;5;241;43m1\u001b[39;49m\u001b[43m]\u001b[49m\u001b[43m,\u001b[49m\u001b[43m \u001b[49m\u001b[43mintrinsics\u001b[49m\u001b[43m,\u001b[49m\u001b[43m \u001b[49m\u001b[43mdistortion\u001b[49m\u001b[43m,\u001b[49m\u001b[43m \u001b[49m\u001b[43mrotations\u001b[49m\u001b[43m,\u001b[49m\u001b[43m \u001b[49m\u001b[43mtraslations\u001b[49m\u001b[43m,\u001b[49m\u001b[43m \u001b[49m\u001b[43mcalibration_flags\u001b[49m\u001b[43m,\u001b[49m\u001b[43m \u001b[49m\u001b[43msubpix_criteria\u001b[49m\u001b[43m)\u001b[49m\n",
      "\u001b[1;31merror\u001b[0m: OpenCV(4.10.0) D:\\a\\opencv-python\\opencv-python\\opencv\\modules\\calib3d\\src\\fisheye.cpp:1453: error: (-215:Assertion failed) fabs(norm_u1) > 0 in function 'cv::internal::InitExtrinsics'\n"
     ]
    }
   ],
   "source": [
    "rms, _, _, _, _ = \\\n",
    "cv2.fisheye.calibrate(np.expand_dims(np.asarray(fisheye_chessboard_points), -2), imgs_corners_fisheye, gray_img_fisheye.shape[::-1], intrinsics, distortion, rotations, traslations, calibration_flags, subpix_criteria)"
   ]
  },
  {
   "cell_type": "code",
   "execution_count": null,
   "metadata": {},
   "outputs": [],
   "source": [
    "# Show intrinsic matrix and distortion coefficients values\n",
    "print(intrinsics)\n",
    "print(distortion)"
   ]
  },
  {
   "cell_type": "markdown",
   "metadata": {},
   "source": [
    "### **Pregunta B.1:** Corrija la distorsión de las 2 primeras imágenes de la carpeta ``fisheye``"
   ]
  },
  {
   "cell_type": "code",
   "execution_count": null,
   "metadata": {},
   "outputs": [],
   "source": [
    "dim = fisheye_imgs[0].shape[:2][::-1]\n",
    "\n",
    "map1, map2 = cv2.fisheye.initUndistortRectifyMap(intrinsics, distortion, np.eye(3), intrinsics, dim, cv2.CV_16SC2)"
   ]
  },
  {
   "cell_type": "code",
   "execution_count": null,
   "metadata": {},
   "outputs": [],
   "source": [
    "\n",
    "corrected_imgs = [cv2.remap(img, map1, map2, interpolation=cv2.INTER_CUBIC) for img in fisheye_imgs] \n",
    "\n",
    "\n",
    "\n",
    "\n",
    "output_folder = 'corrected_fisheye_img'\n",
    "\n",
    "if not os.path.exists(output_folder):\n",
    "    os.makedirs(output_folder)\n",
    "\n",
    "\n",
    "for idx, img in enumerate(corrected_imgs[:2]):\n",
    "    output_path = os.path.join(output_folder, f\"corrected_fisheye_img_{idx+1}.jpg\")\n",
    "    \n",
    "    write_image(output_path, img)\n",
    "\n",
    "    show_image(f\"Corrected Image {idx+1}\", img)\n",
    "\n",
    "    cv2.destroyAllWindows()"
   ]
  }
 ],
 "metadata": {
  "kernelspec": {
   "display_name": "Virtual Environment Lesson 1",
   "language": "python",
   "name": "python3"
  },
  "language_info": {
   "codemirror_mode": {
    "name": "ipython",
    "version": 3
   },
   "file_extension": ".py",
   "mimetype": "text/x-python",
   "name": "python",
   "nbconvert_exporter": "python",
   "pygments_lexer": "ipython3",
   "version": "3.11.9"
  }
 },
 "nbformat": 4,
 "nbformat_minor": 4
}
