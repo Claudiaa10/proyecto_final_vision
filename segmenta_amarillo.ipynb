{
 "cells": [
  {
   "cell_type": "code",
   "execution_count": 3,
   "metadata": {},
   "outputs": [
    {
     "name": "stdout",
     "output_type": "stream",
     "text": [
      "Requirement already satisfied: scikit-image in c:\\users\\usuario\\anaconda3\\lib\\site-packages (0.19.2)\n",
      "Requirement already satisfied: pillow!=7.1.0,!=7.1.1,!=8.3.0,>=6.1.0 in c:\\users\\usuario\\anaconda3\\lib\\site-packages (from scikit-image) (10.3.0)\n",
      "Requirement already satisfied: numpy>=1.17.0 in c:\\users\\usuario\\anaconda3\\lib\\site-packages (from scikit-image) (1.21.5)\n",
      "Requirement already satisfied: packaging>=20.0 in c:\\users\\usuario\\anaconda3\\lib\\site-packages (from scikit-image) (21.3)\n",
      "Requirement already satisfied: scipy>=1.4.1 in c:\\users\\usuario\\anaconda3\\lib\\site-packages (from scikit-image) (1.7.3)\n",
      "Requirement already satisfied: tifffile>=2019.7.26 in c:\\users\\usuario\\anaconda3\\lib\\site-packages (from scikit-image) (2021.7.2)\n",
      "Requirement already satisfied: imageio>=2.4.1 in c:\\users\\usuario\\anaconda3\\lib\\site-packages (from scikit-image) (2.9.0)\n",
      "Requirement already satisfied: networkx>=2.2 in c:\\users\\usuario\\anaconda3\\lib\\site-packages (from scikit-image) (2.7.1)\n",
      "Requirement already satisfied: PyWavelets>=1.1.1 in c:\\users\\usuario\\anaconda3\\lib\\site-packages (from scikit-image) (1.3.0)\n",
      "Requirement already satisfied: pyparsing!=3.0.5,>=2.0.2 in c:\\users\\usuario\\anaconda3\\lib\\site-packages (from packaging>=20.0->scikit-image) (3.0.4)\n",
      "Note: you may need to restart the kernel to use updated packages.\n"
     ]
    }
   ],
   "source": [
    "pip install scikit-image"
   ]
  },
  {
   "cell_type": "code",
   "execution_count": 18,
   "metadata": {},
   "outputs": [],
   "source": [
    "import os\n",
    "import cv2\n",
    "import imageio\n",
    "import numpy as np\n",
    "from typing import List\n"
   ]
  },
  {
   "cell_type": "code",
   "execution_count": null,
   "metadata": {},
   "outputs": [],
   "source": [
    "imgs_secuencia1 = []\n",
    "imgs_secuencia2 = []\n",
    "masks_secuencia1 = []\n",
    "masks_secuencia2 = []\n",
    "\n",
    "for i in range(1, 5):\n",
    "    img = cv2.imread(f'emojis/secuencia_ge_{i}.jpg')\n",
    "    img_hsv = cv2.cvtColor(img, cv2.COLOR_BGR2HSV)\n",
    "    imgs_secuencia1.append(img_hsv)\n",
    "\n",
    "for i in range(1, 5):\n",
    "    img = cv2.imread(f'emojis/secuencia_ne_{i}.jpg')\n",
    "    img_hsv = cv2.cvtColor(img, cv2.COLOR_BGR2HSV)\n",
    "    imgs_secuencia2.append(img_hsv)\n",
    "\n",
    "light_yellow = (20, 100, 100)\n",
    "dark_yellow = (30, 255, 255)\n",
    "\n",
    "for img in imgs_secuencia1:\n",
    "    yellow_mask = cv2.inRange(img, light_yellow, dark_yellow)\n",
    "    masks_secuencia1.append(yellow_mask)\n",
    "\n",
    "for img in imgs_secuencia2:\n",
    "    yellow_mask = cv2.inRange(img, light_yellow, dark_yellow)\n",
    "    masks_secuencia2.append(yellow_mask) \n",
    "\n",
    "for i, img in enumerate(masks_secuencia1):\n",
    "    save_path = os.path.join(\"masks/\", f\"mask_secuencia_ge_{i+1}.jpg\")  \n",
    "    cv2.imwrite(save_path, img)\n",
    "\n",
    "for i, img in enumerate(masks_secuencia2):\n",
    "    save_path = os.path.join(\"masks/\", f\"mask_secuencia_ne_{i+1}.jpg\")  \n",
    "    cv2.imwrite(save_path, img)"
   ]
  },
  {
   "cell_type": "code",
   "execution_count": null,
   "metadata": {},
   "outputs": [
    {
     "name": "stdout",
     "output_type": "stream",
     "text": [
      "Las máscaras tienen diferentes tamaños. Redimensionando...\n",
      "Porcentaje de similitud: 72.12%\n"
     ]
    }
   ],
   "source": [
    "def similarity_percentage(mask1, mask2):\n",
    "    # Asegurarse de que ambas máscaras tengan las mismas dimensiones\n",
    "    if mask1.shape != mask2.shape:\n",
    "        print(\"Las máscaras tienen diferentes tamaños. Redimensionando...\")\n",
    "        mask2 = cv2.resize(mask2, (mask1.shape[1], mask1.shape[0]))\n",
    "\n",
    "    # Comparar las dos máscaras (píxeles iguales)\n",
    "    similar_pixels = np.sum(mask1 == mask2)  # Cuenta los píxeles iguales\n",
    "    total_pixels = mask1.size  # Total de píxeles\n",
    "\n",
    "    # Calcular el porcentaje de similitud\n",
    "    similarity = (similar_pixels / total_pixels) * 100\n",
    "    print(f\"Porcentaje de similitud: {similarity:.2f}%\")\n",
    "\n",
    "similarity_percentage(masks_secuencia2[0], masks_secuencia2[2])\n",
    "show_image(masks_secuencia2[0]) \n",
    "show_image(masks_secuencia2[2]) \n",
    "\n"
   ]
  },
  {
   "cell_type": "code",
   "execution_count": 19,
   "metadata": {},
   "outputs": [
    {
     "name": "stdout",
     "output_type": "stream",
     "text": [
      "Posición: (367, 415), HSV: [ 23 109 194]\n",
      "Posición: (367, 415), HSV: [ 23 109 194]\n",
      "Posición: (367, 415), HSV: [ 23 109 194]\n",
      "Posición: (386, 387), HSV: [48 30 86]\n",
      "Posición: (410, 356), HSV: [111 143  48]\n",
      "Posición: (434, 331), HSV: [113 220  58]\n",
      "Posición: (462, 304), HSV: [ 80  21 178]\n",
      "Posición: (503, 275), HSV: [110 224  41]\n",
      "Posición: (554, 244), HSV: [ 95  39 144]\n",
      "Posición: (614, 217), HSV: [ 51  19 210]\n",
      "Posición: (686, 191), HSV: [ 63  17 149]\n",
      "Posición: (764, 165), HSV: [ 74  20 163]\n",
      "Posición: (847, 143), HSV: [ 52  13 211]\n",
      "Posición: (928, 126), HSV: [112 213 103]\n",
      "Posición: (1002, 113), HSV: [95 60 51]\n",
      "Posición: (1069, 100), HSV: [105 124  68]\n",
      "Posición: (1125, 92), HSV: [107 157  78]\n",
      "Posición: (1174, 87), HSV: [105 183  74]\n",
      "Posición: (1213, 85), HSV: [107 179  64]\n",
      "Posición: (1242, 82), HSV: [105 191  72]\n",
      "Posición: (1258, 80), HSV: [106 193  66]\n",
      "Posición: (1272, 79), HSV: [103 194  54]\n",
      "Posición: (1279, 64), HSV: [105 177  62]\n",
      "Posición: (1272, 51), HSV: [105 194  59]\n",
      "Posición: (1262, 35), HSV: [106 178  66]\n",
      "Posición: (1256, 24), HSV: [103 194  59]\n",
      "Posición: (1250, 16), HSV: [106 183  53]\n",
      "Posición: (1246, 8), HSV: [105 172  52]\n",
      "Posición: (1240, 0), HSV: [103 164  53]\n"
     ]
    }
   ],
   "source": [
    "import cv2\n",
    "import numpy as np\n",
    "\n",
    "# Función para mostrar valores HSV al mover el ratón\n",
    "def get_hsv_values(event, x, y, flags, param):\n",
    "    if event == cv2.EVENT_MOUSEMOVE:\n",
    "        hsv_value = img_hsv[y, x]  # Obtiene el valor HSV en la posición (x, y)\n",
    "        print(f\"Posición: ({x}, {y}), HSV: {hsv_value}\")\n",
    "\n",
    "# Rango inicial del amarillo\n",
    "light_yellow = (20, 100, 100)\n",
    "dark_yellow = (30, 255, 255)\n",
    "\n",
    "# Carga y convierte la imagen\n",
    "img = cv2.imread('C:/Users/Usuario/Downloads/Foto1.jpg')\n",
    "img_hsv = cv2.cvtColor(img, cv2.COLOR_BGR2HSV)\n",
    "\n",
    "# Muestra la imagen con un detector de valores HSV\n",
    "cv2.imshow('HSV Image', img_hsv)\n",
    "cv2.setMouseCallback('HSV Image', get_hsv_values)\n",
    "cv2.waitKey(0)\n",
    "cv2.destroyAllWindows()\n"
   ]
  },
  {
   "cell_type": "code",
   "execution_count": 17,
   "metadata": {},
   "outputs": [],
   "source": [
    "\n",
    "def show_image(img: np.array, img_name: str = \"Image\"):\n",
    "    cv2.imshow(img_name, img) \n",
    "    cv2.waitKey(0)  \n",
    "    cv2.destroyAllWindows()\n",
    "\n",
    "light_yellow = (20, 100, 100)\n",
    "dark_yellow = (30, 255, 255)\n",
    "\n",
    "img = cv2.imread(f'C:/Users/Usuario/Downloads/Foto4.jpg')\n",
    "img_hsv = cv2.cvtColor(img, cv2.COLOR_BGR2HSV)\n",
    "show_image(img_hsv)\n",
    "yellow_mask = cv2.inRange(img_hsv, light_yellow, dark_yellow)\n",
    "show_image(yellow_mask)\n"
   ]
  },
  {
   "cell_type": "code",
   "execution_count": null,
   "metadata": {},
   "outputs": [],
   "source": []
  }
 ],
 "metadata": {
  "kernelspec": {
   "display_name": "base",
   "language": "python",
   "name": "python3"
  },
  "language_info": {
   "codemirror_mode": {
    "name": "ipython",
    "version": 3
   },
   "file_extension": ".py",
   "mimetype": "text/x-python",
   "name": "python",
   "nbconvert_exporter": "python",
   "pygments_lexer": "ipython3",
   "version": "2022.5.undefined"
  }
 },
 "nbformat": 4,
 "nbformat_minor": 2
}
