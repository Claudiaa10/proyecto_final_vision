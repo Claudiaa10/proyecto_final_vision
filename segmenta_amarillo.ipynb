{
 "cells": [
  {
   "cell_type": "code",
   "execution_count": 6,
   "metadata": {},
   "outputs": [
    {
     "name": "stdout",
     "output_type": "stream",
     "text": [
      "Requirement already satisfied: scikit-image in c:\\users\\usuario\\anaconda3\\lib\\site-packages (0.19.2)\n",
      "Requirement already satisfied: networkx>=2.2 in c:\\users\\usuario\\anaconda3\\lib\\site-packages (from scikit-image) (2.7.1)\n",
      "Requirement already satisfied: scipy>=1.4.1 in c:\\users\\usuario\\anaconda3\\lib\\site-packages (from scikit-image) (1.7.3)\n",
      "Requirement already satisfied: pillow!=7.1.0,!=7.1.1,!=8.3.0,>=6.1.0 in c:\\users\\usuario\\anaconda3\\lib\\site-packages (from scikit-image) (10.3.0)\n",
      "Requirement already satisfied: numpy>=1.17.0 in c:\\users\\usuario\\anaconda3\\lib\\site-packages (from scikit-image) (1.21.5)\n",
      "Requirement already satisfied: imageio>=2.4.1 in c:\\users\\usuario\\anaconda3\\lib\\site-packages (from scikit-image) (2.9.0)\n",
      "Requirement already satisfied: PyWavelets>=1.1.1 in c:\\users\\usuario\\anaconda3\\lib\\site-packages (from scikit-image) (1.3.0)\n",
      "Requirement already satisfied: tifffile>=2019.7.26 in c:\\users\\usuario\\anaconda3\\lib\\site-packages (from scikit-image) (2021.7.2)\n",
      "Requirement already satisfied: packaging>=20.0 in c:\\users\\usuario\\anaconda3\\lib\\site-packages (from scikit-image) (21.3)\n",
      "Requirement already satisfied: pyparsing!=3.0.5,>=2.0.2 in c:\\users\\usuario\\anaconda3\\lib\\site-packages (from packaging>=20.0->scikit-image) (3.0.4)\n",
      "Note: you may need to restart the kernel to use updated packages.\n"
     ]
    }
   ],
   "source": [
    "pip install scikit-image"
   ]
  },
  {
   "cell_type": "code",
   "execution_count": 1,
   "metadata": {},
   "outputs": [],
   "source": [
    "import os\n",
    "import cv2\n",
    "import imageio\n",
    "import numpy as np\n",
    "from typing import List\n"
   ]
  },
  {
   "cell_type": "code",
   "execution_count": 8,
   "metadata": {},
   "outputs": [],
   "source": [
    "imgs_secuencia1 = []\n",
    "imgs_secuencia2 = []\n",
    "masks_secuencia1 = []\n",
    "masks_secuencia2 = []\n",
    "\n",
    "for i in range(1, 5):\n",
    "    img = cv2.imread(f'emojis/secuencia_ge_{i}.jpg')\n",
    "    img_hsv = cv2.cvtColor(img, cv2.COLOR_BGR2HSV)\n",
    "    img_hsv = cv2.GaussianBlur(img_hsv, (5, 5), 0)\n",
    "    imgs_secuencia1.append(img_hsv)\n",
    "\n",
    "for i in range(1, 5):\n",
    "    img = cv2.imread(f'emojis/secuencia_ne_{i}.jpg')\n",
    "    img_hsv = cv2.cvtColor(img, cv2.COLOR_BGR2HSV)\n",
    "    img_hsv = cv2.GaussianBlur(img_hsv, (5, 5), 0)\n",
    "    imgs_secuencia2.append(img_hsv)\n",
    "\n",
    "\n",
    "for img in imgs_secuencia1:\n",
    "    yellow_mask = cv2.inRange(img, light_yellow, dark_yellow)\n",
    "    masks_secuencia1.append(yellow_mask)\n",
    "\n",
    "for img in imgs_secuencia2:\n",
    "    yellow_mask = cv2.inRange(img, light_yellow, dark_yellow)\n",
    "    masks_secuencia2.append(yellow_mask) \n",
    "\n",
    "for i, img in enumerate(masks_secuencia1):\n",
    "    save_path = os.path.join(\"masks/\", f\"mask_secuencia_ge_{i+1}.jpg\")  \n",
    "    cv2.imwrite(save_path, img)\n",
    "\n",
    "for i, img in enumerate(masks_secuencia2):\n",
    "    save_path = os.path.join(\"masks/\", f\"mask_secuencia_ne_{i+1}.jpg\")  \n",
    "    cv2.imwrite(save_path, img)"
   ]
  },
  {
   "cell_type": "code",
   "execution_count": 12,
   "metadata": {},
   "outputs": [
    {
     "name": "stdout",
     "output_type": "stream",
     "text": [
      "Las máscaras tienen diferentes tamaños. Redimensionando...\n",
      "Porcentaje de similitud: 81.78%\n"
     ]
    },
    {
     "ename": "NameError",
     "evalue": "name 'show_image' is not defined",
     "output_type": "error",
     "traceback": [
      "\u001b[1;31m---------------------------------------------------------------------------\u001b[0m",
      "\u001b[1;31mNameError\u001b[0m                                 Traceback (most recent call last)",
      "Input \u001b[1;32mIn [12]\u001b[0m, in \u001b[0;36m<cell line: 17>\u001b[1;34m()\u001b[0m\n\u001b[0;32m     15\u001b[0m similarity_percentage(masks_secuencia2[\u001b[38;5;241m0\u001b[39m], masks_secuencia2[\u001b[38;5;241m2\u001b[39m])\n\u001b[0;32m     16\u001b[0m cv2\u001b[38;5;241m.\u001b[39mimshow(\u001b[38;5;124m\"\u001b[39m\u001b[38;5;124mghgjh\u001b[39m\u001b[38;5;124m\"\u001b[39m, masks_secuencia2[\u001b[38;5;241m0\u001b[39m]) \n\u001b[1;32m---> 17\u001b[0m \u001b[43mshow_image\u001b[49m(masks_secuencia2[\u001b[38;5;241m2\u001b[39m])\n",
      "\u001b[1;31mNameError\u001b[0m: name 'show_image' is not defined"
     ]
    },
    {
     "ename": "",
     "evalue": "",
     "output_type": "error",
     "traceback": [
      "\u001b[1;31mThe Kernel crashed while executing code in the current cell or a previous cell. \n",
      "\u001b[1;31mPlease review the code in the cell(s) to identify a possible cause of the failure. \n",
      "\u001b[1;31mClick <a href='https://aka.ms/vscodeJupyterKernelCrash'>here</a> for more info. \n",
      "\u001b[1;31mView Jupyter <a href='command:jupyter.viewOutput'>log</a> for further details."
     ]
    }
   ],
   "source": [
    "def similarity_percentage(mask1, mask2):\n",
    "    # Asegurarse de que ambas máscaras tengan las mismas dimensiones\n",
    "    if mask1.shape != mask2.shape:\n",
    "        print(\"Las máscaras tienen diferentes tamaños. Redimensionando...\")\n",
    "        mask2 = cv2.resize(mask2, (mask1.shape[1], mask1.shape[0]))\n",
    "\n",
    "    # Comparar las dos máscaras (píxeles iguales)\n",
    "    similar_pixels = np.sum(mask1 == mask2)  # Cuenta los píxeles iguales\n",
    "    total_pixels = mask1.size  # Total de píxeles\n",
    "\n",
    "    # Calcular el porcentaje de similitud\n",
    "    similarity = (similar_pixels / total_pixels) * 100\n",
    "    print(f\"Porcentaje de similitud: {similarity:.2f}%\")\n",
    "\n",
    "similarity_percentage(masks_secuencia2[0], masks_secuencia2[2])\n",
    "show_image(masks_secuencia2[0]) \n",
    "show_image(masks_secuencia2[2]) \n",
    "\n"
   ]
  },
  {
   "cell_type": "code",
   "execution_count": 2,
   "metadata": {},
   "outputs": [],
   "source": [
    "imgs = []\n",
    "masks= []\n",
    "\n",
    "for i in range(0, 8):\n",
    "    img = cv2.imread(f'fotos_camara/Foto{i}.jpg')\n",
    "    img_hsv = cv2.cvtColor(img, cv2.COLOR_BGR2HSV)\n",
    "    cv2.imwrite(os.path.join(\"masks_prueba/\", f\"hsv_{i}.jpg\"), img_hsv)\n",
    "    imgs.append(img_hsv)\n",
    "\n",
    "\n",
    "light_yellow = (10, 80, 80)\n",
    "dark_yellow = (40, 255, 255)\n",
    "\n",
    "for img in imgs:\n",
    "    yellow_mask = cv2.inRange(img, light_yellow, dark_yellow)\n",
    "    masks.append(yellow_mask)\n",
    "\n",
    "\n",
    "for i, img in enumerate(masks):\n",
    "    save_path = os.path.join(\"masks_prueba/\", f\"mask_{i}.jpg\")  \n",
    "    cv2.imwrite(save_path, img)\n",
    "\n"
   ]
  },
  {
   "cell_type": "code",
   "execution_count": null,
   "metadata": {},
   "outputs": [
    {
     "name": "stdout",
     "output_type": "stream",
     "text": [
      "Las máscaras tienen diferentes tamaños. Redimensionando...\n",
      "Porcentaje de similitud: 76.72%\n"
     ]
    }
   ],
   "source": [
    "def similarity_percentage(mask1, mask2):\n",
    "    # Asegurarse de que ambas máscaras tengan las mismas dimensiones\n",
    "    if mask1.shape != mask2.shape:\n",
    "        print(\"Las máscaras tienen diferentes tamaños. Redimensionando...\")\n",
    "        mask2 = cv2.resize(mask2, (mask1.shape[1], mask1.shape[0]))\n",
    "\n",
    "    # Comparar las dos máscaras (píxeles iguales)\n",
    "    similar_pixels = np.sum(mask1 == mask2)  # Cuenta los píxeles iguales\n",
    "    total_pixels = mask1.size  # Total de píxeles\n",
    "\n",
    "    # Calcular el porcentaje de similitud\n",
    "    similarity = (similar_pixels / total_pixels) * 100\n",
    "    print(f\"Porcentaje de similitud: {similarity:.2f}%\")\n",
    "\n",
    "img1 = cv2.imread(f'masks/mask_secuencia_ne_3.jpg')\n",
    "img2 = cv2.imread(f'masks_prueba/mask_1.jpg')\n",
    "similarity_percentage(img1, img2)\n"
   ]
  },
  {
   "cell_type": "code",
   "execution_count": null,
   "metadata": {},
   "outputs": [
    {
     "name": "stdout",
     "output_type": "stream",
     "text": [
      "Cantidad de esquinas detectadas: 6\n"
     ]
    },
    {
     "data": {
      "text/plain": [
       "True"
      ]
     },
     "execution_count": 67,
     "metadata": {},
     "output_type": "execute_result"
    }
   ],
   "source": [
    "def shi_tomasi_corner_detection(image: np.array, maxCorners: int, qualityLevel:float, minDistance: int, corner_color: tuple, radius: int):\n",
    "    '''\n",
    "    image - Input image\n",
    "    maxCorners - Maximum number of corners to return. \n",
    "                 If there are more corners than are found, the strongest of them is returned. \n",
    "                 maxCorners <= 0 implies that no limit on the maximum is set and all detected corners are returned\n",
    "    qualityLevel - Parameter characterizing the minimal accepted quality of image corners. \n",
    "                   The parameter value is multiplied by the best corner quality measure, which is the minimal eigenvalue or the Harris function response. \n",
    "                   The corners with the quality measure less than the product are rejected. \n",
    "                   For example, if the best corner has the quality measure = 1500, and the qualityLevel=0.01 , then all the corners with the quality measure less than 15 are rejected\n",
    "    minDistance - Minimum possible Euclidean distance between the returned corners\n",
    "    corner_color - Desired color to highlight corners in the original image\n",
    "    radius - Desired radius (pixels) of the circle\n",
    "    '''\n",
    "    gray = cv2.cvtColor(image, cv2.COLOR_BGR2GRAY)\n",
    "    corners = cv2.goodFeaturesToTrack(gray, maxCorners=maxCorners, qualityLevel=qualityLevel, minDistance=minDistance)\n",
    "    corners = np.intp(corners)\n",
    "    print(f'Cantidad de esquinas detectadas: {len(corners)}')\n",
    "\n",
    "    for corner in corners:\n",
    "        x, y = corner.ravel()\n",
    "        cv2.circle(image, (x, y), radius, corner_color, -1)\n",
    "    return image\n",
    "\n",
    "image = cv2.imread(f'figuras/img2.jpg')\n",
    "purple_color = (255, 0, 255)\n",
    "tomasi_image = shi_tomasi_corner_detection(image, maxCorners=7, qualityLevel=0.3, minDistance=100, corner_color=purple_color, radius=8)\n",
    "save_path = os.path.join(\"figuras/\", \"esquinas.jpg\")  \n",
    "cv2.imwrite(save_path, tomasi_image)"
   ]
  },
  {
   "cell_type": "code",
   "execution_count": 4,
   "metadata": {},
   "outputs": [
    {
     "name": "stdout",
     "output_type": "stream",
     "text": [
      "yellow\n"
     ]
    }
   ],
   "source": [
    "def create_masks():\n",
    "    light_yellow = (10, 80, 80)\n",
    "    dark_yellow = (40, 255, 255)\n",
    "\n",
    "    light_red = (0, 100, 100)\n",
    "    dark_red = (10, 255, 255)\n",
    "\n",
    "    light_blue = (90, 80, 80)\n",
    "    dark_blue = (130, 255, 255)\n",
    "\n",
    "    # Mascaras de los colores\n",
    "    return light_yellow, dark_yellow, light_red, dark_red, light_blue, dark_blue\n",
    "\n",
    "def identify_color(frame, light_yellow, dark_yellow, light_red, dark_red, light_blue, dark_blue):\n",
    "    \"\"\"\n",
    "    Detecta el color predominante de las figuras en la imagen.\n",
    "    \"\"\"\n",
    "    # Convertir la imagen a espacio de color HSV\n",
    "    frame_hsv = cv2.cvtColor(frame, cv2.COLOR_BGR2HSV)\n",
    "\n",
    "    # Crear las máscaras de los colores\n",
    "    yellow_mask = cv2.inRange(frame_hsv, light_yellow, dark_yellow)\n",
    "    red_mask = cv2.inRange(frame_hsv, light_red, dark_red)\n",
    "    blue_mask = cv2.inRange(frame_hsv, light_blue, dark_blue)\n",
    "\n",
    "    # Calcular el área de cada máscara (cantidad de píxeles amarillos, rojos, azules)\n",
    "    yellow_area = np.sum(yellow_mask) \n",
    "    red_area = np.sum(red_mask)\n",
    "    blue_area = np.sum(blue_mask)\n",
    "\n",
    "    # Identificar el color predominante\n",
    "    if yellow_area > red_area and yellow_area > blue_area:\n",
    "        return \"yellow\"\n",
    "    elif red_area > yellow_area and red_area > blue_area:\n",
    "        return \"red\"\n",
    "    else:\n",
    "        return \"blue\"\n",
    "\n",
    "image = cv2.imread(f'figuras/img3.png')\n",
    "light_yellow, dark_yellow, light_red, dark_red, light_blue, dark_blue = create_masks()\n",
    "detected_color = identify_color(image, light_yellow, dark_yellow, light_red, dark_red, light_blue, dark_blue)\n",
    "print(detected_color)"
   ]
  },
  {
   "cell_type": "code",
   "execution_count": null,
   "metadata": {},
   "outputs": [],
   "source": []
  }
 ],
 "metadata": {
  "kernelspec": {
   "display_name": "base",
   "language": "python",
   "name": "python3"
  },
  "language_info": {
   "codemirror_mode": {
    "name": "ipython",
    "version": 3
   },
   "file_extension": ".py",
   "mimetype": "text/x-python",
   "name": "python",
   "nbconvert_exporter": "python",
   "pygments_lexer": "ipython3",
   "version": "3.9.12"
  }
 },
 "nbformat": 4,
 "nbformat_minor": 2
}
